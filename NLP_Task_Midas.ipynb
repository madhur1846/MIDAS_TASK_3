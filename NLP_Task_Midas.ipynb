{
 "cells": [
  {
   "cell_type": "code",
   "execution_count": 141,
   "metadata": {
    "id": "SlwGS1mnAFI0"
   },
   "outputs": [],
   "source": [
    "import numpy as np \n",
    "import pandas as pd \n",
    "import re \n",
    "# import nltk \n",
    "from sklearn import preprocessing\n",
    "from sklearn.model_selection import train_test_split\n",
    "from sklearn.feature_extraction.text import CountVectorizer\n",
    "from sklearn.naive_bayes import MultinomialNB\n",
    "from sklearn.metrics import classification_report\n",
    "from sklearn.feature_extraction.text import TfidfVectorizer"
   ]
  },
  {
   "cell_type": "markdown",
   "metadata": {},
   "source": [
    "<h1>Reading The CVS File</h1>"
   ]
  },
  {
   "cell_type": "code",
   "execution_count": 142,
   "metadata": {
    "colab": {
     "base_uri": "https://localhost:8080/",
     "height": 949
    },
    "id": "mwkp6miLsFbU",
    "outputId": "77f86ab5-7b76-4364-a7c1-bf650dd4cf1a"
   },
   "outputs": [
    {
     "data": {
      "text/html": [
       "<div>\n",
       "<style scoped>\n",
       "    .dataframe tbody tr th:only-of-type {\n",
       "        vertical-align: middle;\n",
       "    }\n",
       "\n",
       "    .dataframe tbody tr th {\n",
       "        vertical-align: top;\n",
       "    }\n",
       "\n",
       "    .dataframe thead th {\n",
       "        text-align: right;\n",
       "    }\n",
       "</style>\n",
       "<table border=\"1\" class=\"dataframe\">\n",
       "  <thead>\n",
       "    <tr style=\"text-align: right;\">\n",
       "      <th></th>\n",
       "      <th>uniq_id</th>\n",
       "      <th>crawl_timestamp</th>\n",
       "      <th>product_url</th>\n",
       "      <th>product_name</th>\n",
       "      <th>product_category_tree</th>\n",
       "      <th>pid</th>\n",
       "      <th>retail_price</th>\n",
       "      <th>discounted_price</th>\n",
       "      <th>image</th>\n",
       "      <th>is_FK_Advantage_product</th>\n",
       "      <th>description</th>\n",
       "      <th>product_rating</th>\n",
       "      <th>overall_rating</th>\n",
       "      <th>brand</th>\n",
       "      <th>product_specifications</th>\n",
       "    </tr>\n",
       "  </thead>\n",
       "  <tbody>\n",
       "    <tr>\n",
       "      <th>0</th>\n",
       "      <td>c2d766ca982eca8304150849735ffef9</td>\n",
       "      <td>2016-03-25 22:59:23 +0000</td>\n",
       "      <td>http://www.flipkart.com/alisha-solid-women-s-c...</td>\n",
       "      <td>Alisha Solid Women's Cycling Shorts</td>\n",
       "      <td>[\"Clothing &gt;&gt; Women's Clothing &gt;&gt; Lingerie, Sl...</td>\n",
       "      <td>SRTEH2FF9KEDEFGF</td>\n",
       "      <td>999.0</td>\n",
       "      <td>379.0</td>\n",
       "      <td>[\"http://img5a.flixcart.com/image/short/u/4/a/...</td>\n",
       "      <td>False</td>\n",
       "      <td>Key Features of Alisha Solid Women's Cycling S...</td>\n",
       "      <td>No rating available</td>\n",
       "      <td>No rating available</td>\n",
       "      <td>Alisha</td>\n",
       "      <td>{\"product_specification\"=&gt;[{\"key\"=&gt;\"Number of ...</td>\n",
       "    </tr>\n",
       "    <tr>\n",
       "      <th>1</th>\n",
       "      <td>7f7036a6d550aaa89d34c77bd39a5e48</td>\n",
       "      <td>2016-03-25 22:59:23 +0000</td>\n",
       "      <td>http://www.flipkart.com/fabhomedecor-fabric-do...</td>\n",
       "      <td>FabHomeDecor Fabric Double Sofa Bed</td>\n",
       "      <td>[\"Furniture &gt;&gt; Living Room Furniture &gt;&gt; Sofa B...</td>\n",
       "      <td>SBEEH3QGU7MFYJFY</td>\n",
       "      <td>32157.0</td>\n",
       "      <td>22646.0</td>\n",
       "      <td>[\"http://img6a.flixcart.com/image/sofa-bed/j/f...</td>\n",
       "      <td>False</td>\n",
       "      <td>FabHomeDecor Fabric Double Sofa Bed (Finish Co...</td>\n",
       "      <td>No rating available</td>\n",
       "      <td>No rating available</td>\n",
       "      <td>FabHomeDecor</td>\n",
       "      <td>{\"product_specification\"=&gt;[{\"key\"=&gt;\"Installati...</td>\n",
       "    </tr>\n",
       "    <tr>\n",
       "      <th>2</th>\n",
       "      <td>f449ec65dcbc041b6ae5e6a32717d01b</td>\n",
       "      <td>2016-03-25 22:59:23 +0000</td>\n",
       "      <td>http://www.flipkart.com/aw-bellies/p/itmeh4grg...</td>\n",
       "      <td>AW Bellies</td>\n",
       "      <td>[\"Footwear &gt;&gt; Women's Footwear &gt;&gt; Ballerinas &gt;...</td>\n",
       "      <td>SHOEH4GRSUBJGZXE</td>\n",
       "      <td>999.0</td>\n",
       "      <td>499.0</td>\n",
       "      <td>[\"http://img5a.flixcart.com/image/shoe/7/z/z/r...</td>\n",
       "      <td>False</td>\n",
       "      <td>Key Features of AW Bellies Sandals Wedges Heel...</td>\n",
       "      <td>No rating available</td>\n",
       "      <td>No rating available</td>\n",
       "      <td>AW</td>\n",
       "      <td>{\"product_specification\"=&gt;[{\"key\"=&gt;\"Ideal For\"...</td>\n",
       "    </tr>\n",
       "    <tr>\n",
       "      <th>3</th>\n",
       "      <td>0973b37acd0c664e3de26e97e5571454</td>\n",
       "      <td>2016-03-25 22:59:23 +0000</td>\n",
       "      <td>http://www.flipkart.com/alisha-solid-women-s-c...</td>\n",
       "      <td>Alisha Solid Women's Cycling Shorts</td>\n",
       "      <td>[\"Clothing &gt;&gt; Women's Clothing &gt;&gt; Lingerie, Sl...</td>\n",
       "      <td>SRTEH2F6HUZMQ6SJ</td>\n",
       "      <td>699.0</td>\n",
       "      <td>267.0</td>\n",
       "      <td>[\"http://img5a.flixcart.com/image/short/6/2/h/...</td>\n",
       "      <td>False</td>\n",
       "      <td>Key Features of Alisha Solid Women's Cycling S...</td>\n",
       "      <td>No rating available</td>\n",
       "      <td>No rating available</td>\n",
       "      <td>Alisha</td>\n",
       "      <td>{\"product_specification\"=&gt;[{\"key\"=&gt;\"Number of ...</td>\n",
       "    </tr>\n",
       "    <tr>\n",
       "      <th>4</th>\n",
       "      <td>bc940ea42ee6bef5ac7cea3fb5cfbee7</td>\n",
       "      <td>2016-03-25 22:59:23 +0000</td>\n",
       "      <td>http://www.flipkart.com/sicons-all-purpose-arn...</td>\n",
       "      <td>Sicons All Purpose Arnica Dog Shampoo</td>\n",
       "      <td>[\"Pet Supplies &gt;&gt; Grooming &gt;&gt; Skin &amp; Coat Care...</td>\n",
       "      <td>PSOEH3ZYDMSYARJ5</td>\n",
       "      <td>220.0</td>\n",
       "      <td>210.0</td>\n",
       "      <td>[\"http://img5a.flixcart.com/image/pet-shampoo/...</td>\n",
       "      <td>False</td>\n",
       "      <td>Specifications of Sicons All Purpose Arnica Do...</td>\n",
       "      <td>No rating available</td>\n",
       "      <td>No rating available</td>\n",
       "      <td>Sicons</td>\n",
       "      <td>{\"product_specification\"=&gt;[{\"key\"=&gt;\"Pet Type\",...</td>\n",
       "    </tr>\n",
       "    <tr>\n",
       "      <th>...</th>\n",
       "      <td>...</td>\n",
       "      <td>...</td>\n",
       "      <td>...</td>\n",
       "      <td>...</td>\n",
       "      <td>...</td>\n",
       "      <td>...</td>\n",
       "      <td>...</td>\n",
       "      <td>...</td>\n",
       "      <td>...</td>\n",
       "      <td>...</td>\n",
       "      <td>...</td>\n",
       "      <td>...</td>\n",
       "      <td>...</td>\n",
       "      <td>...</td>\n",
       "      <td>...</td>\n",
       "    </tr>\n",
       "    <tr>\n",
       "      <th>19995</th>\n",
       "      <td>7179d2f6c4ad50a17d014ca1d2815156</td>\n",
       "      <td>2015-12-01 10:15:43 +0000</td>\n",
       "      <td>http://www.flipkart.com/walldesign-small-vinyl...</td>\n",
       "      <td>WallDesign Small Vinyl Sticker</td>\n",
       "      <td>[\"Baby Care &gt;&gt; Baby &amp; Kids Gifts &gt;&gt; Stickers &gt;...</td>\n",
       "      <td>STIE7KFJAKSTDY9G</td>\n",
       "      <td>1500.0</td>\n",
       "      <td>730.0</td>\n",
       "      <td>[\"http://img6a.flixcart.com/image/wall-decorat...</td>\n",
       "      <td>False</td>\n",
       "      <td>Buy WallDesign Small Vinyl Sticker for Rs.730 ...</td>\n",
       "      <td>No rating available</td>\n",
       "      <td>No rating available</td>\n",
       "      <td>WallDesign</td>\n",
       "      <td>{\"product_specification\"=&gt;[{\"key\"=&gt;\"Number of ...</td>\n",
       "    </tr>\n",
       "    <tr>\n",
       "      <th>19996</th>\n",
       "      <td>71ac419198359d37b8fe5e3fffdfee09</td>\n",
       "      <td>2015-12-01 10:15:43 +0000</td>\n",
       "      <td>http://www.flipkart.com/wallmantra-large-vinyl...</td>\n",
       "      <td>Wallmantra Large Vinyl Stickers Sticker</td>\n",
       "      <td>[\"Baby Care &gt;&gt; Baby &amp; Kids Gifts &gt;&gt; Stickers &gt;...</td>\n",
       "      <td>STIE9F5URNQGJCGH</td>\n",
       "      <td>1429.0</td>\n",
       "      <td>1143.0</td>\n",
       "      <td>[\"http://img6a.flixcart.com/image/sticker/z/g/...</td>\n",
       "      <td>False</td>\n",
       "      <td>Buy Wallmantra Large Vinyl Stickers Sticker fo...</td>\n",
       "      <td>No rating available</td>\n",
       "      <td>No rating available</td>\n",
       "      <td>Wallmantra</td>\n",
       "      <td>{\"product_specification\"=&gt;[{\"key\"=&gt;\"Number of ...</td>\n",
       "    </tr>\n",
       "    <tr>\n",
       "      <th>19997</th>\n",
       "      <td>93e9d343837400ce0d7980874ece471c</td>\n",
       "      <td>2015-12-01 10:15:43 +0000</td>\n",
       "      <td>http://www.flipkart.com/elite-collection-mediu...</td>\n",
       "      <td>Elite Collection Medium Acrylic Sticker</td>\n",
       "      <td>[\"Baby Care &gt;&gt; Baby &amp; Kids Gifts &gt;&gt; Stickers &gt;...</td>\n",
       "      <td>STIE7VAYDKQZEBSD</td>\n",
       "      <td>1299.0</td>\n",
       "      <td>999.0</td>\n",
       "      <td>[\"http://img5a.flixcart.com/image/sticker/b/s/...</td>\n",
       "      <td>False</td>\n",
       "      <td>Buy Elite Collection Medium Acrylic Sticker fo...</td>\n",
       "      <td>No rating available</td>\n",
       "      <td>No rating available</td>\n",
       "      <td>Elite Collection</td>\n",
       "      <td>{\"product_specification\"=&gt;[{\"key\"=&gt;\"Number of ...</td>\n",
       "    </tr>\n",
       "    <tr>\n",
       "      <th>19998</th>\n",
       "      <td>669e79b8fa5d9ae020841c0c97d5e935</td>\n",
       "      <td>2015-12-01 10:15:43 +0000</td>\n",
       "      <td>http://www.flipkart.com/elite-collection-mediu...</td>\n",
       "      <td>Elite Collection Medium Acrylic Sticker</td>\n",
       "      <td>[\"Baby Care &gt;&gt; Baby &amp; Kids Gifts &gt;&gt; Stickers &gt;...</td>\n",
       "      <td>STIE8YSVEPPCZ42Y</td>\n",
       "      <td>1499.0</td>\n",
       "      <td>1199.0</td>\n",
       "      <td>[\"http://img5a.flixcart.com/image/sticker/4/2/...</td>\n",
       "      <td>False</td>\n",
       "      <td>Buy Elite Collection Medium Acrylic Sticker fo...</td>\n",
       "      <td>No rating available</td>\n",
       "      <td>No rating available</td>\n",
       "      <td>Elite Collection</td>\n",
       "      <td>{\"product_specification\"=&gt;[{\"key\"=&gt;\"Number of ...</td>\n",
       "    </tr>\n",
       "    <tr>\n",
       "      <th>19999</th>\n",
       "      <td>cb4fa87a874f715fff567f7b7b3be79c</td>\n",
       "      <td>2015-12-01 10:15:43 +0000</td>\n",
       "      <td>http://www.flipkart.com/elite-collection-mediu...</td>\n",
       "      <td>Elite Collection Medium Acrylic Sticker</td>\n",
       "      <td>[\"Baby Care &gt;&gt; Baby &amp; Kids Gifts &gt;&gt; Stickers &gt;...</td>\n",
       "      <td>STIE88KN9ZDSGZKY</td>\n",
       "      <td>1499.0</td>\n",
       "      <td>999.0</td>\n",
       "      <td>[\"http://img6a.flixcart.com/image/sticker/z/k/...</td>\n",
       "      <td>False</td>\n",
       "      <td>Buy Elite Collection Medium Acrylic Sticker fo...</td>\n",
       "      <td>No rating available</td>\n",
       "      <td>No rating available</td>\n",
       "      <td>Elite Collection</td>\n",
       "      <td>{\"product_specification\"=&gt;[{\"key\"=&gt;\"Number of ...</td>\n",
       "    </tr>\n",
       "  </tbody>\n",
       "</table>\n",
       "<p>20000 rows × 15 columns</p>\n",
       "</div>"
      ],
      "text/plain": [
       "                                uniq_id            crawl_timestamp  \\\n",
       "0      c2d766ca982eca8304150849735ffef9  2016-03-25 22:59:23 +0000   \n",
       "1      7f7036a6d550aaa89d34c77bd39a5e48  2016-03-25 22:59:23 +0000   \n",
       "2      f449ec65dcbc041b6ae5e6a32717d01b  2016-03-25 22:59:23 +0000   \n",
       "3      0973b37acd0c664e3de26e97e5571454  2016-03-25 22:59:23 +0000   \n",
       "4      bc940ea42ee6bef5ac7cea3fb5cfbee7  2016-03-25 22:59:23 +0000   \n",
       "...                                 ...                        ...   \n",
       "19995  7179d2f6c4ad50a17d014ca1d2815156  2015-12-01 10:15:43 +0000   \n",
       "19996  71ac419198359d37b8fe5e3fffdfee09  2015-12-01 10:15:43 +0000   \n",
       "19997  93e9d343837400ce0d7980874ece471c  2015-12-01 10:15:43 +0000   \n",
       "19998  669e79b8fa5d9ae020841c0c97d5e935  2015-12-01 10:15:43 +0000   \n",
       "19999  cb4fa87a874f715fff567f7b7b3be79c  2015-12-01 10:15:43 +0000   \n",
       "\n",
       "                                             product_url  \\\n",
       "0      http://www.flipkart.com/alisha-solid-women-s-c...   \n",
       "1      http://www.flipkart.com/fabhomedecor-fabric-do...   \n",
       "2      http://www.flipkart.com/aw-bellies/p/itmeh4grg...   \n",
       "3      http://www.flipkart.com/alisha-solid-women-s-c...   \n",
       "4      http://www.flipkart.com/sicons-all-purpose-arn...   \n",
       "...                                                  ...   \n",
       "19995  http://www.flipkart.com/walldesign-small-vinyl...   \n",
       "19996  http://www.flipkart.com/wallmantra-large-vinyl...   \n",
       "19997  http://www.flipkart.com/elite-collection-mediu...   \n",
       "19998  http://www.flipkart.com/elite-collection-mediu...   \n",
       "19999  http://www.flipkart.com/elite-collection-mediu...   \n",
       "\n",
       "                                  product_name  \\\n",
       "0          Alisha Solid Women's Cycling Shorts   \n",
       "1          FabHomeDecor Fabric Double Sofa Bed   \n",
       "2                                   AW Bellies   \n",
       "3          Alisha Solid Women's Cycling Shorts   \n",
       "4        Sicons All Purpose Arnica Dog Shampoo   \n",
       "...                                        ...   \n",
       "19995           WallDesign Small Vinyl Sticker   \n",
       "19996  Wallmantra Large Vinyl Stickers Sticker   \n",
       "19997  Elite Collection Medium Acrylic Sticker   \n",
       "19998  Elite Collection Medium Acrylic Sticker   \n",
       "19999  Elite Collection Medium Acrylic Sticker   \n",
       "\n",
       "                                   product_category_tree               pid  \\\n",
       "0      [\"Clothing >> Women's Clothing >> Lingerie, Sl...  SRTEH2FF9KEDEFGF   \n",
       "1      [\"Furniture >> Living Room Furniture >> Sofa B...  SBEEH3QGU7MFYJFY   \n",
       "2      [\"Footwear >> Women's Footwear >> Ballerinas >...  SHOEH4GRSUBJGZXE   \n",
       "3      [\"Clothing >> Women's Clothing >> Lingerie, Sl...  SRTEH2F6HUZMQ6SJ   \n",
       "4      [\"Pet Supplies >> Grooming >> Skin & Coat Care...  PSOEH3ZYDMSYARJ5   \n",
       "...                                                  ...               ...   \n",
       "19995  [\"Baby Care >> Baby & Kids Gifts >> Stickers >...  STIE7KFJAKSTDY9G   \n",
       "19996  [\"Baby Care >> Baby & Kids Gifts >> Stickers >...  STIE9F5URNQGJCGH   \n",
       "19997  [\"Baby Care >> Baby & Kids Gifts >> Stickers >...  STIE7VAYDKQZEBSD   \n",
       "19998  [\"Baby Care >> Baby & Kids Gifts >> Stickers >...  STIE8YSVEPPCZ42Y   \n",
       "19999  [\"Baby Care >> Baby & Kids Gifts >> Stickers >...  STIE88KN9ZDSGZKY   \n",
       "\n",
       "       retail_price  discounted_price  \\\n",
       "0             999.0             379.0   \n",
       "1           32157.0           22646.0   \n",
       "2             999.0             499.0   \n",
       "3             699.0             267.0   \n",
       "4             220.0             210.0   \n",
       "...             ...               ...   \n",
       "19995        1500.0             730.0   \n",
       "19996        1429.0            1143.0   \n",
       "19997        1299.0             999.0   \n",
       "19998        1499.0            1199.0   \n",
       "19999        1499.0             999.0   \n",
       "\n",
       "                                                   image  \\\n",
       "0      [\"http://img5a.flixcart.com/image/short/u/4/a/...   \n",
       "1      [\"http://img6a.flixcart.com/image/sofa-bed/j/f...   \n",
       "2      [\"http://img5a.flixcart.com/image/shoe/7/z/z/r...   \n",
       "3      [\"http://img5a.flixcart.com/image/short/6/2/h/...   \n",
       "4      [\"http://img5a.flixcart.com/image/pet-shampoo/...   \n",
       "...                                                  ...   \n",
       "19995  [\"http://img6a.flixcart.com/image/wall-decorat...   \n",
       "19996  [\"http://img6a.flixcart.com/image/sticker/z/g/...   \n",
       "19997  [\"http://img5a.flixcart.com/image/sticker/b/s/...   \n",
       "19998  [\"http://img5a.flixcart.com/image/sticker/4/2/...   \n",
       "19999  [\"http://img6a.flixcart.com/image/sticker/z/k/...   \n",
       "\n",
       "       is_FK_Advantage_product  \\\n",
       "0                        False   \n",
       "1                        False   \n",
       "2                        False   \n",
       "3                        False   \n",
       "4                        False   \n",
       "...                        ...   \n",
       "19995                    False   \n",
       "19996                    False   \n",
       "19997                    False   \n",
       "19998                    False   \n",
       "19999                    False   \n",
       "\n",
       "                                             description       product_rating  \\\n",
       "0      Key Features of Alisha Solid Women's Cycling S...  No rating available   \n",
       "1      FabHomeDecor Fabric Double Sofa Bed (Finish Co...  No rating available   \n",
       "2      Key Features of AW Bellies Sandals Wedges Heel...  No rating available   \n",
       "3      Key Features of Alisha Solid Women's Cycling S...  No rating available   \n",
       "4      Specifications of Sicons All Purpose Arnica Do...  No rating available   \n",
       "...                                                  ...                  ...   \n",
       "19995  Buy WallDesign Small Vinyl Sticker for Rs.730 ...  No rating available   \n",
       "19996  Buy Wallmantra Large Vinyl Stickers Sticker fo...  No rating available   \n",
       "19997  Buy Elite Collection Medium Acrylic Sticker fo...  No rating available   \n",
       "19998  Buy Elite Collection Medium Acrylic Sticker fo...  No rating available   \n",
       "19999  Buy Elite Collection Medium Acrylic Sticker fo...  No rating available   \n",
       "\n",
       "            overall_rating             brand  \\\n",
       "0      No rating available            Alisha   \n",
       "1      No rating available      FabHomeDecor   \n",
       "2      No rating available                AW   \n",
       "3      No rating available            Alisha   \n",
       "4      No rating available            Sicons   \n",
       "...                    ...               ...   \n",
       "19995  No rating available        WallDesign   \n",
       "19996  No rating available        Wallmantra   \n",
       "19997  No rating available  Elite Collection   \n",
       "19998  No rating available  Elite Collection   \n",
       "19999  No rating available  Elite Collection   \n",
       "\n",
       "                                  product_specifications  \n",
       "0      {\"product_specification\"=>[{\"key\"=>\"Number of ...  \n",
       "1      {\"product_specification\"=>[{\"key\"=>\"Installati...  \n",
       "2      {\"product_specification\"=>[{\"key\"=>\"Ideal For\"...  \n",
       "3      {\"product_specification\"=>[{\"key\"=>\"Number of ...  \n",
       "4      {\"product_specification\"=>[{\"key\"=>\"Pet Type\",...  \n",
       "...                                                  ...  \n",
       "19995  {\"product_specification\"=>[{\"key\"=>\"Number of ...  \n",
       "19996  {\"product_specification\"=>[{\"key\"=>\"Number of ...  \n",
       "19997  {\"product_specification\"=>[{\"key\"=>\"Number of ...  \n",
       "19998  {\"product_specification\"=>[{\"key\"=>\"Number of ...  \n",
       "19999  {\"product_specification\"=>[{\"key\"=>\"Number of ...  \n",
       "\n",
       "[20000 rows x 15 columns]"
      ]
     },
     "execution_count": 142,
     "metadata": {},
     "output_type": "execute_result"
    }
   ],
   "source": [
    "import numpy as np\n",
    "import pandas as pd\n",
    "import seaborn as sns\n",
    "import matplotlib.pyplot as plt\n",
    "Flipkart_data=pd.read_csv(\"flipkart_com-ecommerce_sample - flipkart_com-ecommerce_sample - flipkart_com-ecommerce_sample.csv\")\n",
    "Flipkart_data"
   ]
  },
  {
   "cell_type": "markdown",
   "metadata": {},
   "source": [
    "<h1>Observing the basic stuff about flipkart datasets like is there any nun-value, their counts and their data types </h1>"
   ]
  },
  {
   "cell_type": "code",
   "execution_count": 143,
   "metadata": {
    "colab": {
     "base_uri": "https://localhost:8080/"
    },
    "id": "0Q9hmmnjQdi4",
    "outputId": "feda6dac-37de-4d88-e1e1-e248be3b7eb9"
   },
   "outputs": [
    {
     "name": "stdout",
     "output_type": "stream",
     "text": [
      "<class 'pandas.core.frame.DataFrame'>\n",
      "RangeIndex: 20000 entries, 0 to 19999\n",
      "Data columns (total 15 columns):\n",
      " #   Column                   Non-Null Count  Dtype  \n",
      "---  ------                   --------------  -----  \n",
      " 0   uniq_id                  20000 non-null  object \n",
      " 1   crawl_timestamp          20000 non-null  object \n",
      " 2   product_url              20000 non-null  object \n",
      " 3   product_name             20000 non-null  object \n",
      " 4   product_category_tree    20000 non-null  object \n",
      " 5   pid                      20000 non-null  object \n",
      " 6   retail_price             19922 non-null  float64\n",
      " 7   discounted_price         19922 non-null  float64\n",
      " 8   image                    19997 non-null  object \n",
      " 9   is_FK_Advantage_product  20000 non-null  bool   \n",
      " 10  description              19998 non-null  object \n",
      " 11  product_rating           20000 non-null  object \n",
      " 12  overall_rating           20000 non-null  object \n",
      " 13  brand                    14136 non-null  object \n",
      " 14  product_specifications   19986 non-null  object \n",
      "dtypes: bool(1), float64(2), object(12)\n",
      "memory usage: 2.2+ MB\n"
     ]
    }
   ],
   "source": [
    "Flipkart_data.info()"
   ]
  },
  {
   "cell_type": "code",
   "execution_count": 144,
   "metadata": {
    "colab": {
     "base_uri": "https://localhost:8080/"
    },
    "id": "U6g93cqQQmQ4",
    "outputId": "1e867b43-d6d9-4b71-d7f1-766433c81e30"
   },
   "outputs": [
    {
     "name": "stdout",
     "output_type": "stream",
     "text": [
      "(20000, 15)\n",
      "uniq_id                       0\n",
      "crawl_timestamp               0\n",
      "product_url                   0\n",
      "product_name                  0\n",
      "product_category_tree         0\n",
      "pid                           0\n",
      "retail_price                 78\n",
      "discounted_price             78\n",
      "image                         3\n",
      "is_FK_Advantage_product       0\n",
      "description                   2\n",
      "product_rating                0\n",
      "overall_rating                0\n",
      "brand                      5864\n",
      "product_specifications       14\n",
      "dtype: int64\n"
     ]
    }
   ],
   "source": [
    "print(Flipkart_data.shape)\n",
    "print(Flipkart_data.isnull().sum())"
   ]
  },
  {
   "cell_type": "markdown",
   "metadata": {},
   "source": [
    "<h1> Using Heatmap in seaborn checking how much null values present in each column </h1>"
   ]
  },
  {
   "cell_type": "code",
   "execution_count": 145,
   "metadata": {
    "colab": {
     "base_uri": "https://localhost:8080/",
     "height": 621
    },
    "id": "M3ChfxGPQufN",
    "outputId": "7cd2ed79-6aa8-46ec-f05a-c03ca688c4ef"
   },
   "outputs": [
    {
     "data": {
      "text/plain": [
       "<AxesSubplot:>"
      ]
     },
     "execution_count": 145,
     "metadata": {},
     "output_type": "execute_result"
    },
    {
     "data": {
      "image/png": "[encoded data removed]",
      "text/plain": [
       "<Figure size 720x576 with 2 Axes>"
      ]
     },
     "metadata": {
      "needs_background": "light"
     },
     "output_type": "display_data"
    }
   ],
   "source": [
    "plt.figure(figsize =(10,8))\n",
    "sns.heatmap(Flipkart_data.isnull(),yticklabels=False,cmap='YlGnBu',cbar=True)"
   ]
  },
  {
   "cell_type": "markdown",
   "metadata": {},
   "source": [
    "# Checking the duplicated values "
   ]
  },
  {
   "cell_type": "code",
   "execution_count": 146,
   "metadata": {
    "colab": {
     "base_uri": "https://localhost:8080/"
    },
    "id": "LGfA6CK1QyaE",
    "outputId": "6f5ce957-fcc8-4f0a-a9d3-ffbff6742730"
   },
   "outputs": [
    {
     "data": {
      "text/plain": [
       "False    20000\n",
       "dtype: int64"
      ]
     },
     "execution_count": 146,
     "metadata": {},
     "output_type": "execute_result"
    }
   ],
   "source": [
    "Flipkart_data.duplicated().value_counts()"
   ]
  },
  {
   "cell_type": "markdown",
   "metadata": {},
   "source": [
    "# Converting date time stamp to different columns "
   ]
  },
  {
   "cell_type": "code",
   "execution_count": 147,
   "metadata": {
    "colab": {
     "base_uri": "https://localhost:8080/"
    },
    "id": "xGOoJWIqQ01C",
    "outputId": "d7c29eaf-dcab-4e6f-b1f3-2174b0957e43"
   },
   "outputs": [
    {
     "data": {
      "text/plain": [
       "0       2016-03-25 22:59:23+00:00\n",
       "1       2016-03-25 22:59:23+00:00\n",
       "2       2016-03-25 22:59:23+00:00\n",
       "3       2016-03-25 22:59:23+00:00\n",
       "4       2016-03-25 22:59:23+00:00\n",
       "                   ...           \n",
       "19995   2015-12-01 10:15:43+00:00\n",
       "19996   2015-12-01 10:15:43+00:00\n",
       "19997   2015-12-01 10:15:43+00:00\n",
       "19998   2015-12-01 10:15:43+00:00\n",
       "19999   2015-12-01 10:15:43+00:00\n",
       "Name: crawl_timestamp, Length: 20000, dtype: datetime64[ns, UTC]"
      ]
     },
     "execution_count": 147,
     "metadata": {},
     "output_type": "execute_result"
    }
   ],
   "source": [
    "\n",
    "Flipkart_data['crawl_timestamp']=pd.to_datetime(Flipkart_data['crawl_timestamp'])\n",
    "Flipkart_data['crawl_timestamp']"
   ]
  },
  {
   "cell_type": "code",
   "execution_count": 148,
   "metadata": {
    "id": "98Xlf_ll-fdb"
   },
   "outputs": [],
   "source": [
    "Flipkart_data['crawl_year']=Flipkart_data['crawl_timestamp'].apply(lambda x : x.year)"
   ]
  },
  {
   "cell_type": "code",
   "execution_count": 149,
   "metadata": {
    "colab": {
     "base_uri": "https://localhost:8080/"
    },
    "id": "jAsq6o_9-gEB",
    "outputId": "d3479e7d-3db6-4524-98f7-b9fcd1fa3142"
   },
   "outputs": [
    {
     "data": {
      "text/plain": [
       "0        2016\n",
       "1        2016\n",
       "2        2016\n",
       "3        2016\n",
       "4        2016\n",
       "         ... \n",
       "19995    2015\n",
       "19996    2015\n",
       "19997    2015\n",
       "19998    2015\n",
       "19999    2015\n",
       "Name: crawl_year, Length: 20000, dtype: int64"
      ]
     },
     "execution_count": 149,
     "metadata": {},
     "output_type": "execute_result"
    }
   ],
   "source": [
    "Flipkart_data['crawl_year']"
   ]
  },
  {
   "cell_type": "code",
   "execution_count": 150,
   "metadata": {
    "colab": {
     "base_uri": "https://localhost:8080/"
    },
    "id": "m0w1coLV-iVU",
    "outputId": "77f1722d-b154-46bb-9487-14de88c850f6"
   },
   "outputs": [
    {
     "data": {
      "text/plain": [
       "0         3\n",
       "1         3\n",
       "2         3\n",
       "3         3\n",
       "4         3\n",
       "         ..\n",
       "19995    12\n",
       "19996    12\n",
       "19997    12\n",
       "19998    12\n",
       "19999    12\n",
       "Name: Month, Length: 20000, dtype: int64"
      ]
     },
     "execution_count": 150,
     "metadata": {},
     "output_type": "execute_result"
    }
   ],
   "source": [
    "Flipkart_data['Month']=Flipkart_data['crawl_timestamp'].apply(lambda x : x.month)\n",
    "Flipkart_data['Month']"
   ]
  },
  {
   "cell_type": "markdown",
   "metadata": {},
   "source": [
    "# "
   ]
  },
  {
   "cell_type": "markdown",
   "metadata": {},
   "source": [
    "# Taking first four level of category tree and creating seperate column for all"
   ]
  },
  {
   "cell_type": "code",
   "execution_count": 151,
   "metadata": {
    "id": "KLuRlCeR-o1u"
   },
   "outputs": [],
   "source": [
    "def main_category(value):\n",
    "    try:\n",
    "        return value.split('>>')[0][2:len(value.split('>>')[0])-1]\n",
    "    except IndexError:\n",
    "        return 'None'  \n",
    "\n",
    "def secondary_category(value):\n",
    "    try:\n",
    "        return value.split('>>')[1][1:len(value.split('>>')[1])-1]\n",
    "    except IndexError:\n",
    "        return 'None'       \n",
    "    \n",
    "def tertiary_category(value):\n",
    "    try:\n",
    "        return value.split('>>')[2][1:len(value.split('>>')[2])-1]\n",
    "    except IndexError:\n",
    "        return 'None'\n",
    "    \n",
    "def quaternary_category(value):\n",
    "    try:\n",
    "        return value.split('>>')[3][1:len(value.split('>>')[3])-1]\n",
    "    except IndexError:\n",
    "        return 'None'"
   ]
  },
  {
   "cell_type": "code",
   "execution_count": 152,
   "metadata": {
    "id": "5azVrmYb-rAT"
   },
   "outputs": [],
   "source": [
    "Flipkart_data['main_category']=Flipkart_data['product_category_tree'].apply(main_category)\n",
    "Flipkart_data['secondary']=Flipkart_data['product_category_tree'].apply(secondary_category)\n",
    "Flipkart_data['tertiary']=Flipkart_data['product_category_tree'].apply(tertiary_category)\n",
    "Flipkart_data['quaternary']=Flipkart_data['product_category_tree'].apply(quaternary_category)"
   ]
  },
  {
   "cell_type": "markdown",
   "metadata": {},
   "source": [
    "# Anylizing each column created above (frequency of each category)"
   ]
  },
  {
   "cell_type": "code",
   "execution_count": 153,
   "metadata": {},
   "outputs": [
    {
     "data": {
      "text/plain": [
       "0            Clothing\n",
       "1           Furniture\n",
       "2            Footwear\n",
       "3            Clothing\n",
       "4        Pet Supplies\n",
       "             ...     \n",
       "19995       Baby Care\n",
       "19996       Baby Care\n",
       "19997       Baby Care\n",
       "19998       Baby Care\n",
       "19999       Baby Care\n",
       "Name: main_category, Length: 20000, dtype: object"
      ]
     },
     "execution_count": 153,
     "metadata": {},
     "output_type": "execute_result"
    }
   ],
   "source": [
    "Flipkart_data['main_category']"
   ]
  },
  {
   "cell_type": "code",
   "execution_count": 154,
   "metadata": {
    "colab": {
     "base_uri": "https://localhost:8080/"
    },
    "id": "Rs67ceT7-vpC",
    "outputId": "1808ac47-4d2b-40e6-daeb-40631073a50b"
   },
   "outputs": [
    {
     "data": {
      "text/plain": [
       "Clothing                      6198\n",
       "Jewellery                     3531\n",
       "Footwear                      1227\n",
       "Mobiles & Accessories         1099\n",
       "Automotive                    1012\n",
       "Home Decor & Festive Needs     929\n",
       "Beauty and Personal Care       710\n",
       "Home Furnishing                700\n",
       "Kitchen & Dining               647\n",
       "Computers                      578\n",
       "Name: main_category, dtype: int64"
      ]
     },
     "execution_count": 154,
     "metadata": {},
     "output_type": "execute_result"
    }
   ],
   "source": [
    "Flipkart_data['main_category'].value_counts()[:10].sort_values(ascending=False)"
   ]
  },
  {
   "cell_type": "code",
   "execution_count": 155,
   "metadata": {
    "colab": {
     "base_uri": "https://localhost:8080/",
     "height": 609
    },
    "id": "A2F-Jslp-4X5",
    "outputId": "21d47e4b-338a-461d-ff5d-134db002530f"
   },
   "outputs": [
    {
     "data": {
      "text/plain": [
       "<AxesSubplot:>"
      ]
     },
     "execution_count": 155,
     "metadata": {},
     "output_type": "execute_result"
    },
    {
     "data": {
      "image/png": "[encoded data removed]",
      "text/plain": [
       "<Figure size 720x720 with 1 Axes>"
      ]
     },
     "metadata": {
      "needs_background": "light"
     },
     "output_type": "display_data"
    }
   ],
   "source": [
    "plt.figure(figsize=(10,10))\n",
    "Flipkart_data['secondary'].value_counts()[:20].sort_values(ascending=False).plot(kind='barh')"
   ]
  },
  {
   "cell_type": "code",
   "execution_count": 156,
   "metadata": {
    "colab": {
     "base_uri": "https://localhost:8080/"
    },
    "id": "SW8qr29w-7o0",
    "outputId": "2c33defb-23f8-4b51-d8a3-a0b70be28dbc"
   },
   "outputs": [
    {
     "data": {
      "text/plain": [
       "Western Wear                  1981\n",
       "Necklaces\"                    1567\n",
       "None                          1457\n",
       "Lingerie, Sleep & Swimwear    1208\n",
       "T-Shirts                       903\n",
       "Cases & Covers                 796\n",
       "Car Interior & Exterior        677\n",
       "Ethnic Wear                    485\n",
       "Casual Shoes                   454\n",
       "Bangles\"                       430\n",
       "Name: tertiary, dtype: int64"
      ]
     },
     "execution_count": 156,
     "metadata": {},
     "output_type": "execute_result"
    }
   ],
   "source": [
    "Flipkart_data['tertiary'].value_counts()[:10].sort_values(ascending=False)"
   ]
  },
  {
   "cell_type": "code",
   "execution_count": 157,
   "metadata": {
    "colab": {
     "base_uri": "https://localhost:8080/",
     "height": 609
    },
    "id": "awg3l-Wt_Og0",
    "outputId": "88d43fde-bfc2-49c6-f2c2-2f05da984f36"
   },
   "outputs": [
    {
     "data": {
      "text/plain": [
       "<AxesSubplot:>"
      ]
     },
     "execution_count": 157,
     "metadata": {},
     "output_type": "execute_result"
    },
    {
     "data": {
      "image/png": "[encoded data removed]",
      "text/plain": [
       "<Figure size 720x720 with 1 Axes>"
      ]
     },
     "metadata": {
      "needs_background": "light"
     },
     "output_type": "display_data"
    }
   ],
   "source": [
    "plt.figure(figsize=(10,10))\n",
    "Flipkart_data['quaternary'].value_counts()[:20].plot(kind='barh')"
   ]
  },
  {
   "cell_type": "code",
   "execution_count": 158,
   "metadata": {
    "colab": {
     "base_uri": "https://localhost:8080/"
    },
    "id": "u4sHVP27_Sdy",
    "outputId": "e4182cf8-c38c-421b-92e6-af918677c052"
   },
   "outputs": [
    {
     "data": {
      "text/plain": [
       "None                            5876\n",
       "Shirts, Tops & Tunics           1249\n",
       "Bras                            1036\n",
       "Car Interior                     659\n",
       "Dresses & Skirts                 620\n",
       "Combos                           375\n",
       "Plant Containers & Sets          333\n",
       "TheLostPuppy Cases & Covers\"     229\n",
       "Leggings & Jeggings              209\n",
       "Kurtas & Kurtis                  202\n",
       "Name: quaternary, dtype: int64"
      ]
     },
     "execution_count": 158,
     "metadata": {},
     "output_type": "execute_result"
    }
   ],
   "source": [
    "Flipkart_data['quaternary'].value_counts()[:10].sort_values(ascending=False)"
   ]
  },
  {
   "cell_type": "markdown",
   "metadata": {},
   "source": [
    "# Function for cleaning the string like removing multiple spaces, changing to lower case, converting to all alphabets"
   ]
  },
  {
   "cell_type": "code",
   "execution_count": 159,
   "metadata": {
    "id": "rqRsFbMo_VuD"
   },
   "outputs": [],
   "source": [
    "def preprocess_string(str_arg):\n",
    "    cleaned_str=re.sub('[^a-z\\s]+',' ',str_arg,flags=re.IGNORECASE) \n",
    "    cleaned_str=re.sub('(\\s+)',' ',cleaned_str) \n",
    "    cleaned_str=cleaned_str.lower() \n",
    "    return cleaned_str "
   ]
  },
  {
   "cell_type": "markdown",
   "metadata": {},
   "source": [
    "# Chossing only first six category for classification purpose"
   ]
  },
  {
   "cell_type": "code",
   "execution_count": 160,
   "metadata": {
    "colab": {
     "base_uri": "https://localhost:8080/"
    },
    "id": "Fu7AsUpG_mid",
    "outputId": "feffd8ae-6748-4143-a134-18e9c32e7d30"
   },
   "outputs": [
    {
     "name": "stdout",
     "output_type": "stream",
     "text": [
      "['Clothing', 'Footwear', 'Home Decor & Festive Needs', 'Automotive', 'Mobiles & Accessories', 'Jewellery']\n"
     ]
    }
   ],
   "source": [
    "Flipkart_data['product_category_tree'] = Flipkart_data['product_category_tree'].apply(lambda x : x.split('>>')[0][2:].strip())\n",
    "# Category processing\n",
    "top_six_gen = list(Flipkart_data.groupby('product_category_tree').count().sort_values(by='uniq_id',ascending=False).head(6).index)\n",
    "processed_df = Flipkart_data[Flipkart_data['product_category_tree'].isin(top_six_gen)][['product_category_tree','description']]\n",
    "# Selecting only relevant columns\n",
    "processed_df['description'] = processed_df['description'].astype('str').apply(preprocess_string)\n",
    "# Cleaning strings\n",
    "cat_list = list(processed_df['product_category_tree'].unique())\n",
    "# Creating a list of categories for later use\n",
    "print(cat_list)\n",
    "# Printing the list of top 6 categories\n",
    "le = preprocessing.LabelEncoder()\n",
    "category_encoded=le.fit_transform(processed_df['product_category_tree'])\n",
    "processed_df['product_category_tree'] = category_encoded\n",
    "# Encoding the product category"
   ]
  },
  {
   "cell_type": "markdown",
   "metadata": {},
   "source": [
    "# Spliting the data using sklearn library train_test_split. Using description column as input and prodcut_category_tree as output "
   ]
  },
  {
   "cell_type": "code",
   "execution_count": 161,
   "metadata": {
    "id": "49CEeoKb_uJq"
   },
   "outputs": [],
   "source": [
    "X_train, X_test, y_train, y_test = train_test_split(processed_df['description'],processed_df['product_category_tree'],test_size=0.2)"
   ]
  },
  {
   "cell_type": "markdown",
   "metadata": {},
   "source": [
    "# Converting each sentence into vectors using count vectorizer"
   ]
  },
  {
   "cell_type": "code",
   "execution_count": 162,
   "metadata": {
    "id": "-tvKbcDb-tSi"
   },
   "outputs": [],
   "source": [
    "vect = CountVectorizer(stop_words = 'english')\n",
    "X_train_matrix = vect.fit_transform(X_train) "
   ]
  },
  {
   "cell_type": "markdown",
   "metadata": {},
   "source": [
    "# Using multinomian NB model for training and testing. Then calculating the score"
   ]
  },
  {
   "cell_type": "code",
   "execution_count": 163,
   "metadata": {
    "colab": {
     "base_uri": "https://localhost:8080/"
    },
    "id": "NRku8n0RAVmK",
    "outputId": "55a03a77-daf8-49de-a2a0-2b6cd4bea07e"
   },
   "outputs": [
    {
     "name": "stdout",
     "output_type": "stream",
     "text": [
      "0.9917827795641301\n",
      "0.9914285714285714\n",
      "              precision    recall  f1-score   support\n",
      "\n",
      "           0       1.00      0.99      0.99       206\n",
      "           1       1.00      0.99      1.00      1216\n",
      "           2       0.98      1.00      0.99       270\n",
      "           3       0.97      0.99      0.98       174\n",
      "           4       0.98      1.00      0.99       702\n",
      "           5       1.00      0.95      0.97       232\n",
      "\n",
      "    accuracy                           0.99      2800\n",
      "   macro avg       0.99      0.99      0.99      2800\n",
      "weighted avg       0.99      0.99      0.99      2800\n",
      "\n"
     ]
    }
   ],
   "source": [
    "clf=MultinomialNB()\n",
    "# Defining model\n",
    "clf.fit(X_train_matrix, y_train)\n",
    "# Fitting to multinomial NB model \n",
    "print(clf.score(X_train_matrix, y_train))\n",
    "# Scoring the trained model (Expected to be above 95 percent)\n",
    "X_test_matrix = vect.transform(X_test) \n",
    "# Converting the test data\n",
    "print (clf.score(X_test_matrix, y_test))\n",
    "# Scoring for the test data\n",
    "predicted_result=clf.predict(X_test_matrix)\n",
    "print(classification_report(y_test,predicted_result))"
   ]
  },
  {
   "cell_type": "markdown",
   "metadata": {},
   "source": [
    "# Repeating the process after applying TF-IDF "
   ]
  },
  {
   "cell_type": "code",
   "execution_count": 164,
   "metadata": {
    "id": "jtnI09AvAWVB"
   },
   "outputs": [],
   "source": [
    "vectorizer = TfidfVectorizer(stop_words = 'english')\n",
    "X_train_tfidf = vectorizer.fit_transform(X_train)"
   ]
  },
  {
   "cell_type": "code",
   "execution_count": 165,
   "metadata": {
    "colab": {
     "base_uri": "https://localhost:8080/"
    },
    "id": "qmSOcoOtAZVt",
    "outputId": "497067df-e654-4a2a-8221-28fb035151c7"
   },
   "outputs": [
    {
     "name": "stdout",
     "output_type": "stream",
     "text": [
      "0.9909789210432297\n",
      "0.9864285714285714\n"
     ]
    }
   ],
   "source": [
    "clf2=MultinomialNB()\n",
    "# Defining model\n",
    "clf2.fit(X_train_tfidf, y_train)\n",
    "# Fitting to multinomial NB model \n",
    "print(clf2.score(X_train_tfidf, y_train))\n",
    "# Scoring the trained model\n",
    "X_test_tfidf = vectorizer.transform(X_test) \n",
    "# Converting the test data\n",
    "print (clf2.score(X_test_tfidf, y_test))"
   ]
  },
  {
   "cell_type": "code",
   "execution_count": null,
   "metadata": {
    "id": "fBeVbrtTAbL9"
   },
   "outputs": [],
   "source": []
  }
 ],
 "metadata": {
  "accelerator": "GPU",
  "colab": {
   "collapsed_sections": [],
   "name": "NLP-Task-Midas.ipynb",
   "provenance": []
  },
  "kernelspec": {
   "display_name": "Python 3",
   "language": "python",
   "name": "python3"
  },
  "language_info": {
   "codemirror_mode": {
    "name": "ipython",
    "version": 3
   },
   "file_extension": ".py",
   "mimetype": "text/x-python",
   "name": "python",
   "nbconvert_exporter": "python",
   "pygments_lexer": "ipython3",
   "version": "3.8.8"
  }
 },
 "nbformat": 4,
 "nbformat_minor": 1
}
